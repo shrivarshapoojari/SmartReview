{
 "cells": [
  {
   "cell_type": "code",
   "execution_count": 2,
   "id": "1eb03203",
   "metadata": {},
   "outputs": [],
   "source": [
    "from langgraph.graph import StateGraph, START, END\n",
    "from langchain_groq import ChatGroq\n",
    "from langchain_core.messages import HumanMessage, SystemMessage\n",
    "from langchain_core.tools import tool\n",
    "from langchain_community.tools import ShellTool\n",
    "from langgraph.prebuilt import ToolNode\n",
    "from typing import TypedDict, List\n",
    "import os"
   ]
  },
  {
   "cell_type": "code",
   "execution_count": null,
   "id": "d5aeb3db",
   "metadata": {},
   "outputs": [],
   "source": [
    "# Set up Groq LLM\n",
    "os.environ[\"GROQ_API_KEY\"] = \"your-groq-api-key-here\"  # Replace with your actual key\n",
    "\n",
    "llm = ChatGroq(\n",
    "    model=\"llama3-8b-8192\",  # or another model\n",
    "    temperature=0.1\n",
    ")"
   ]
  },
  {
   "cell_type": "code",
   "execution_count": null,
   "id": "4b3ab5fb",
   "metadata": {},
   "outputs": [],
   "source": [
    "# Define the state\n",
    "class CodeReviewState(TypedDict):\n",
    "    code: str\n",
    "    feedback: List[str]\n",
    "    issues: List[str]\n",
    "    suggestions: List[str]"
   ]
  },
  {
   "cell_type": "code",
   "execution_count": null,
   "id": "7f93a833",
   "metadata": {},
   "outputs": [],
   "source": [
    "# Define nodes\n",
    "def analyze_code(state: CodeReviewState):\n",
    "    code = state[\"code\"]\n",
    "    prompt = f\"\"\"\n",
    "    Analyze the following code for potential issues, bugs, and improvements.\n",
    "    Code:\n",
    "    {code}\n",
    "    \n",
    "    Provide a list of issues and suggestions.\n",
    "    \"\"\"\n",
    "    response = llm.invoke([SystemMessage(content=\"You are a code review expert.\"), HumanMessage(content=prompt)])\n",
    "    analysis = response.content\n",
    "    \n",
    "    # Parse analysis into issues and suggestions (simple split)\n",
    "    lines = analysis.split('\\n')\n",
    "    issues = [line for line in lines if 'issue' in line.lower() or 'bug' in line.lower()]\n",
    "    suggestions = [line for line in lines if 'suggest' in line.lower() or 'improve' in line.lower()]\n",
    "    \n",
    "    return {\"issues\": issues, \"suggestions\": suggestions}\n",
    "\n",
    "def provide_feedback(state: CodeReviewState):\n",
    "    issues = state[\"issues\"]\n",
    "    suggestions = state[\"suggestions\"]\n",
    "    feedback = f\"Issues: {issues}\\nSuggestions: {suggestions}\"\n",
    "    return {\"feedback\": [feedback]}"
   ]
  },
  {
   "cell_type": "code",
   "execution_count": null,
   "id": "1311e7ab",
   "metadata": {},
   "outputs": [],
   "source": [
    "# Build the graph\n",
    "graph = StateGraph(CodeReviewState)\n",
    "\n",
    "graph.add_node(\"analyze\", analyze_code)\n",
    "graph.add_node(\"feedback\", provide_feedback)\n",
    "\n",
    "graph.add_edge(START, \"analyze\")\n",
    "graph.add_edge(\"analyze\", \"feedback\")\n",
    "graph.add_edge(\"feedback\", END)\n",
    "\n",
    "code_review_agent = graph.compile()"
   ]
  },
  {
   "cell_type": "code",
   "execution_count": null,
   "id": "3701aff8",
   "metadata": {},
   "outputs": [],
   "source": [
    "# Test the agent\n",
    "sample_code = \"\"\"\n",
    "def hello_world():\n",
    "    print(\"Hello, World!\")\n",
    "\"\"\"\n",
    "\n",
    "result = code_review_agent.invoke({\"code\": sample_code, \"feedback\": [], \"issues\": [], \"suggestions\": []})\n",
    "print(result)"
   ]
  },
  {
   "cell_type": "code",
   "execution_count": 1,
   "id": "6e06c2a6",
   "metadata": {},
   "outputs": [
    {
     "name": "stdout",
     "output_type": "stream",
     "text": [
      "hi\n"
     ]
    }
   ],
   "source": [
    "print(\"hi\")"
   ]
  }
 ],
 "metadata": {
  "kernelspec": {
   "display_name": ".venv",
   "language": "python",
   "name": "python3"
  },
  "language_info": {
   "codemirror_mode": {
    "name": "ipython",
    "version": 3
   },
   "file_extension": ".py",
   "mimetype": "text/x-python",
   "name": "python",
   "nbconvert_exporter": "python",
   "pygments_lexer": "ipython3",
   "version": "3.11.4"
  }
 },
 "nbformat": 4,
 "nbformat_minor": 5
}

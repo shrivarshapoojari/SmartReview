{
 "cells": [
  {
   "cell_type": "code",
   "execution_count": 13,
   "id": "1eb03203",
   "metadata": {},
   "outputs": [
    {
     "data": {
      "text/plain": [
       "True"
      ]
     },
     "execution_count": 13,
     "metadata": {},
     "output_type": "execute_result"
    }
   ],
   "source": [
    "from langgraph.graph import StateGraph, START, END\n",
    "from langchain_groq import ChatGroq\n",
    "from langchain_core.messages import HumanMessage, SystemMessage\n",
    "from langchain_core.tools import tool\n",
    "from langchain_community.tools import ShellTool\n",
    "from langgraph.prebuilt import ToolNode\n",
    "from typing import TypedDict, List\n",
    "import os\n",
    "from dotenv import load_dotenv\n",
    "from github import Github\n",
    "load_dotenv()"
   ]
  },
  {
   "cell_type": "code",
   "execution_count": 14,
   "id": "d5aeb3db",
   "metadata": {},
   "outputs": [],
   "source": [
    "# Set up Groq LLM\n",
    "os.environ[\"GROQ_API_KEY\"] = os.getenv(\"GROQ_API_KEY\")  \n",
    "\n",
    "llm = ChatGroq(\n",
    "    model=\"openai/gpt-oss-20b\",\n",
    ")"
   ]
  },
  {
   "cell_type": "code",
   "execution_count": 15,
   "id": "4b3ab5fb",
   "metadata": {},
   "outputs": [],
   "source": [
    "# Define the state\n",
    "class CodeReviewState(TypedDict):\n",
    "    repo_name: str\n",
    "    pr_number: int\n",
    "    code_changes: List[str]\n",
    "    feedback: List[str]\n",
    "    issues: List[str]\n",
    "    suggestions: List[str]"
   ]
  },
  {
   "cell_type": "code",
   "execution_count": 10,
   "id": "7f93a833",
   "metadata": {},
   "outputs": [],
   "source": [
    "# Define nodes\n",
    "def analyze_code(state: CodeReviewState):\n",
    "    code = state[\"code\"]\n",
    "    prompt = f\"\"\"\n",
    "    Analyze the following code for potential issues, bugs, and improvements.\n",
    "    Code:\n",
    "    {code}\n",
    "    \n",
    "    Provide a list of issues and suggestions.\n",
    "    \"\"\"\n",
    "    response = llm.invoke([SystemMessage(content=\"You are a code review expert.\"), HumanMessage(content=prompt)])\n",
    "    analysis = response.content\n",
    "    \n",
    "    # Parse analysis into issues and suggestions (simple split)\n",
    "    lines = analysis.split('\\n')\n",
    "    issues = [line for line in lines if 'issue' in line.lower() or 'bug' in line.lower()]\n",
    "    suggestions = [line for line in lines if 'suggest' in line.lower() or 'improve' in line.lower()]\n",
    "    \n",
    "    return {\"issues\": issues, \"suggestions\": suggestions}\n",
    "\n",
    "def provide_feedback(state: CodeReviewState):\n",
    "    issues = state[\"issues\"]\n",
    "    suggestions = state[\"suggestions\"]\n",
    "    feedback = f\"Issues: {issues}\\nSuggestions: {suggestions}\"\n",
    "    return {\"feedback\": [feedback]}"
   ]
  },
  {
   "cell_type": "code",
   "execution_count": null,
   "id": "28ea0790",
   "metadata": {},
   "outputs": [],
   "source": [
    "# Fetch PR changes\n",
    "def fetch_pr_changes(state: CodeReviewState):\n",
    "    repo_name = state[\"repo_name\"]\n",
    "    pr_number = state[\"pr_number\"]\n",
    "    \n",
    "    g = Github(os.getenv(\"GITHUB_TOKEN\"))\n",
    "    repo = g.get_repo(repo_name)\n",
    "    pr = repo.get_pull(pr_number)\n",
    "    \n",
    "    files = pr.get_files()\n",
    "    code_changes = []\n",
    "    for file in files:\n",
    "        if file.patch:\n",
    "            code_changes.append(f\"File: {file.filename}\\n{file.patch}\")\n",
    "    \n",
    "    return {\"code_changes\": code_changes}\n",
    "\n",
    "# Define nodes\n",
    "def analyze_code(state: CodeReviewState):\n",
    "    code_changes = state[\"code_changes\"]\n",
    "    all_code = \"\\n\\n\".join(code_changes)\n",
    "    prompt = f\"\"\"\n",
    "    Analyze the following code changes for potential issues, bugs, and improvements.\n",
    "    Code Changes:\n",
    "    {all_code}\n",
    "    \n",
    "    Provide a list of issues and suggestions.\n",
    "    \"\"\"\n",
    "    response = llm.invoke([SystemMessage(content=\"You are a code review expert.\"), HumanMessage(content=prompt)])\n",
    "    analysis = response.content\n",
    "    \n",
    "    # Parse analysis into issues and suggestions (simple split)\n",
    "    lines = analysis.split('\\n')\n",
    "    issues = [line for line in lines if 'issue' in line.lower() or 'bug' in line.lower()]\n",
    "    suggestions = [line for line in lines if 'suggest' in line.lower() or 'improve' in line.lower()]\n",
    "    \n",
    "    return {\"issues\": issues, \"suggestions\": suggestions}\n",
    "\n",
    "def provide_feedback(state: CodeReviewState):\n",
    "    issues = state[\"issues\"]\n",
    "    suggestions = state[\"suggestions\"]\n",
    "    feedback = f\"**Code Review Feedback**\\n\\n**Issues:**\\n\" + \"\\n\".join(f\"- {issue}\" for issue in issues) + f\"\\n\\n**Suggestions:**\\n\" + \"\\n\".join(f\"- {sugg}\" for sugg in suggestions)\n",
    "    return {\"feedback\": [feedback]}\n",
    "\n",
    "def post_feedback(state: CodeReviewState):\n",
    "    repo_name = state[\"repo_name\"]\n",
    "    pr_number = state[\"pr_number\"]\n",
    "    feedback = state[\"feedback\"][0] if state[\"feedback\"] else \"No feedback generated.\"\n",
    "    \n",
    "    g = Github(os.getenv(\"GITHUB_TOKEN\"))\n",
    "    repo = g.get_repo(repo_name)\n",
    "    pr = repo.get_pull(pr_number)\n",
    "    \n",
    "    pr.create_issue_comment(feedback)\n",
    "    return {}"
   ]
  },
  {
   "cell_type": "code",
   "execution_count": null,
   "id": "1311e7ab",
   "metadata": {},
   "outputs": [],
   "source": [
    "# Build the graph\n",
    "graph = StateGraph(CodeReviewState)\n",
    "\n",
    "graph.add_node(\"fetch_pr\", fetch_pr_changes)\n",
    "graph.add_node(\"analyze\", analyze_code)\n",
    "graph.add_node(\"feedback\", provide_feedback)\n",
    "graph.add_node(\"post\", post_feedback)\n",
    "\n",
    "graph.add_edge(START, \"fetch_pr\")\n",
    "graph.add_edge(\"fetch_pr\", \"analyze\")\n",
    "graph.add_edge(\"analyze\", \"feedback\")\n",
    "graph.add_edge(\"feedback\", \"post\")\n",
    "graph.add_edge(\"post\", END)\n",
    "\n",
    "code_review_agent = graph.compile()"
   ]
  },
  {
   "cell_type": "code",
   "execution_count": null,
   "id": "3701aff8",
   "metadata": {},
   "outputs": [
    {
     "name": "stdout",
     "output_type": "stream",
     "text": [
      "{'code': '\\ndef hello_world():\\n    print(\"Hello, World!\")\\n', 'feedback': [\"Issues: ['Because the function is so small there are almost no bugs, but there are a handful of style, maintainability, and usability improvements you might consider.', '| # | Issue / Observation | Why it matters | Suggested fix / improvement |']\\nSuggestions: ['Because the function is so small there are almost no bugs, but there are a handful of style, maintainability, and usability improvements you might consider.', '| # | Issue / Observation | Why it matters | Suggested fix / improvement |', '### Minimal “improved” version']\"], 'issues': ['Because the function is so small there are almost no bugs, but there are a handful of style, maintainability, and usability improvements you might consider.', '| # | Issue / Observation | Why it matters | Suggested fix / improvement |'], 'suggestions': ['Because the function is so small there are almost no bugs, but there are a handful of style, maintainability, and usability improvements you might consider.', '| # | Issue / Observation | Why it matters | Suggested fix / improvement |', '### Minimal “improved” version']}\n"
     ]
    }
   ],
   "source": [
    "# Test the agent with PR\n",
    "# Example: repo_name = \"owner/repo\", pr_number = 1\n",
    "result = code_review_agent.invoke({\n",
    "    \"repo_name\": \"shrivarshapoojari/SmartReview\",  # Replace with actual repo\n",
    "    \"pr_number\": 1,  # Replace with actual PR number\n",
    "    \"code_changes\": [],\n",
    "    \"feedback\": [],\n",
    "    \"issues\": [],\n",
    "    \"suggestions\": []\n",
    "})\n",
    "print(result)"
   ]
  },
  {
   "cell_type": "code",
   "execution_count": null,
   "id": "6e06c2a6",
   "metadata": {},
   "outputs": [],
   "source": []
  }
 ],
 "metadata": {
  "kernelspec": {
   "display_name": ".venv",
   "language": "python",
   "name": "python3"
  },
  "language_info": {
   "codemirror_mode": {
    "name": "ipython",
    "version": 3
   },
   "file_extension": ".py",
   "mimetype": "text/x-python",
   "name": "python",
   "nbconvert_exporter": "python",
   "pygments_lexer": "ipython3",
   "version": "3.11.4"
  }
 },
 "nbformat": 4,
 "nbformat_minor": 5
}
